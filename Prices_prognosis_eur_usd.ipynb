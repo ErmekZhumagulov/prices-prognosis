{
  "nbformat": 4,
  "nbformat_minor": 0,
  "metadata": {
    "colab": {
      "provenance": [],
      "authorship_tag": "ABX9TyPdg4jSgI0tERq/5i8k/F/L",
      "include_colab_link": true
    },
    "kernelspec": {
      "name": "python3",
      "display_name": "Python 3"
    },
    "language_info": {
      "name": "python"
    }
  },
  "cells": [
    {
      "cell_type": "markdown",
      "metadata": {
        "id": "view-in-github",
        "colab_type": "text"
      },
      "source": [
        "<a href=\"https://colab.research.google.com/github/ErmekZhumagulov/prices-prognosis/blob/main/Prices_prognosis_eur_usd.ipynb\" target=\"_parent\"><img src=\"https://colab.research.google.com/assets/colab-badge.svg\" alt=\"Open In Colab\"/></a>"
      ]
    },
    {
      "cell_type": "markdown",
      "source": [
        "Нейронные сети прогноза закрытия следующей свечи.\n",
        "\n",
        "Импорт необходимых библиотек:"
      ],
      "metadata": {
        "id": "vOAMAUHUDXiu"
      }
    },
    {
      "cell_type": "code",
      "execution_count": 1,
      "metadata": {
        "id": "HUUNd-NDC1T7"
      },
      "outputs": [],
      "source": [
        "import tensorflow as tf\n",
        "import numpy as np\n",
        "import matplotlib.pyplot as plt\n",
        "import pandas as pd\n",
        "from google.colab import files\n",
        "import io\n",
        "import math"
      ]
    },
    {
      "cell_type": "markdown",
      "source": [
        "Импорт данных и переименование названия столбцов:"
      ],
      "metadata": {
        "id": "7MxXhd6PSuLu"
      }
    },
    {
      "cell_type": "code",
      "source": [
        "filename = files.upload()\n",
        "df = pd.read_csv(io.BytesIO(filename['EURUSD_220117_230117.csv']), sep=',')\n",
        "print(df.shape, df.columns)\n",
        "df.rename(columns={'<DATE>': 'Date', '<TIME>': 'Time', '<OPEN>': 'Open', '<HIGH>': 'High', '<LOW>': 'Low', '<CLOSE>': 'Close', '<VOL>': 'Volume'}, inplace=True)\n",
        "print(df.shape, df.columns)"
      ],
      "metadata": {
        "colab": {
          "base_uri": "https://localhost:8080/",
          "height": 107
        },
        "id": "brGhFcKHEoEX",
        "outputId": "07957e12-b14b-4653-8ebd-8a6e0d323438"
      },
      "execution_count": 3,
      "outputs": [
        {
          "output_type": "display_data",
          "data": {
            "text/plain": [
              "<IPython.core.display.HTML object>"
            ],
            "text/html": [
              "\n",
              "     <input type=\"file\" id=\"files-95ede51a-33be-49af-9f10-91dcea011ae4\" name=\"files[]\" multiple disabled\n",
              "        style=\"border:none\" />\n",
              "     <output id=\"result-95ede51a-33be-49af-9f10-91dcea011ae4\">\n",
              "      Upload widget is only available when the cell has been executed in the\n",
              "      current browser session. Please rerun this cell to enable.\n",
              "      </output>\n",
              "      <script>// Copyright 2017 Google LLC\n",
              "//\n",
              "// Licensed under the Apache License, Version 2.0 (the \"License\");\n",
              "// you may not use this file except in compliance with the License.\n",
              "// You may obtain a copy of the License at\n",
              "//\n",
              "//      http://www.apache.org/licenses/LICENSE-2.0\n",
              "//\n",
              "// Unless required by applicable law or agreed to in writing, software\n",
              "// distributed under the License is distributed on an \"AS IS\" BASIS,\n",
              "// WITHOUT WARRANTIES OR CONDITIONS OF ANY KIND, either express or implied.\n",
              "// See the License for the specific language governing permissions and\n",
              "// limitations under the License.\n",
              "\n",
              "/**\n",
              " * @fileoverview Helpers for google.colab Python module.\n",
              " */\n",
              "(function(scope) {\n",
              "function span(text, styleAttributes = {}) {\n",
              "  const element = document.createElement('span');\n",
              "  element.textContent = text;\n",
              "  for (const key of Object.keys(styleAttributes)) {\n",
              "    element.style[key] = styleAttributes[key];\n",
              "  }\n",
              "  return element;\n",
              "}\n",
              "\n",
              "// Max number of bytes which will be uploaded at a time.\n",
              "const MAX_PAYLOAD_SIZE = 100 * 1024;\n",
              "\n",
              "function _uploadFiles(inputId, outputId) {\n",
              "  const steps = uploadFilesStep(inputId, outputId);\n",
              "  const outputElement = document.getElementById(outputId);\n",
              "  // Cache steps on the outputElement to make it available for the next call\n",
              "  // to uploadFilesContinue from Python.\n",
              "  outputElement.steps = steps;\n",
              "\n",
              "  return _uploadFilesContinue(outputId);\n",
              "}\n",
              "\n",
              "// This is roughly an async generator (not supported in the browser yet),\n",
              "// where there are multiple asynchronous steps and the Python side is going\n",
              "// to poll for completion of each step.\n",
              "// This uses a Promise to block the python side on completion of each step,\n",
              "// then passes the result of the previous step as the input to the next step.\n",
              "function _uploadFilesContinue(outputId) {\n",
              "  const outputElement = document.getElementById(outputId);\n",
              "  const steps = outputElement.steps;\n",
              "\n",
              "  const next = steps.next(outputElement.lastPromiseValue);\n",
              "  return Promise.resolve(next.value.promise).then((value) => {\n",
              "    // Cache the last promise value to make it available to the next\n",
              "    // step of the generator.\n",
              "    outputElement.lastPromiseValue = value;\n",
              "    return next.value.response;\n",
              "  });\n",
              "}\n",
              "\n",
              "/**\n",
              " * Generator function which is called between each async step of the upload\n",
              " * process.\n",
              " * @param {string} inputId Element ID of the input file picker element.\n",
              " * @param {string} outputId Element ID of the output display.\n",
              " * @return {!Iterable<!Object>} Iterable of next steps.\n",
              " */\n",
              "function* uploadFilesStep(inputId, outputId) {\n",
              "  const inputElement = document.getElementById(inputId);\n",
              "  inputElement.disabled = false;\n",
              "\n",
              "  const outputElement = document.getElementById(outputId);\n",
              "  outputElement.innerHTML = '';\n",
              "\n",
              "  const pickedPromise = new Promise((resolve) => {\n",
              "    inputElement.addEventListener('change', (e) => {\n",
              "      resolve(e.target.files);\n",
              "    });\n",
              "  });\n",
              "\n",
              "  const cancel = document.createElement('button');\n",
              "  inputElement.parentElement.appendChild(cancel);\n",
              "  cancel.textContent = 'Cancel upload';\n",
              "  const cancelPromise = new Promise((resolve) => {\n",
              "    cancel.onclick = () => {\n",
              "      resolve(null);\n",
              "    };\n",
              "  });\n",
              "\n",
              "  // Wait for the user to pick the files.\n",
              "  const files = yield {\n",
              "    promise: Promise.race([pickedPromise, cancelPromise]),\n",
              "    response: {\n",
              "      action: 'starting',\n",
              "    }\n",
              "  };\n",
              "\n",
              "  cancel.remove();\n",
              "\n",
              "  // Disable the input element since further picks are not allowed.\n",
              "  inputElement.disabled = true;\n",
              "\n",
              "  if (!files) {\n",
              "    return {\n",
              "      response: {\n",
              "        action: 'complete',\n",
              "      }\n",
              "    };\n",
              "  }\n",
              "\n",
              "  for (const file of files) {\n",
              "    const li = document.createElement('li');\n",
              "    li.append(span(file.name, {fontWeight: 'bold'}));\n",
              "    li.append(span(\n",
              "        `(${file.type || 'n/a'}) - ${file.size} bytes, ` +\n",
              "        `last modified: ${\n",
              "            file.lastModifiedDate ? file.lastModifiedDate.toLocaleDateString() :\n",
              "                                    'n/a'} - `));\n",
              "    const percent = span('0% done');\n",
              "    li.appendChild(percent);\n",
              "\n",
              "    outputElement.appendChild(li);\n",
              "\n",
              "    const fileDataPromise = new Promise((resolve) => {\n",
              "      const reader = new FileReader();\n",
              "      reader.onload = (e) => {\n",
              "        resolve(e.target.result);\n",
              "      };\n",
              "      reader.readAsArrayBuffer(file);\n",
              "    });\n",
              "    // Wait for the data to be ready.\n",
              "    let fileData = yield {\n",
              "      promise: fileDataPromise,\n",
              "      response: {\n",
              "        action: 'continue',\n",
              "      }\n",
              "    };\n",
              "\n",
              "    // Use a chunked sending to avoid message size limits. See b/62115660.\n",
              "    let position = 0;\n",
              "    do {\n",
              "      const length = Math.min(fileData.byteLength - position, MAX_PAYLOAD_SIZE);\n",
              "      const chunk = new Uint8Array(fileData, position, length);\n",
              "      position += length;\n",
              "\n",
              "      const base64 = btoa(String.fromCharCode.apply(null, chunk));\n",
              "      yield {\n",
              "        response: {\n",
              "          action: 'append',\n",
              "          file: file.name,\n",
              "          data: base64,\n",
              "        },\n",
              "      };\n",
              "\n",
              "      let percentDone = fileData.byteLength === 0 ?\n",
              "          100 :\n",
              "          Math.round((position / fileData.byteLength) * 100);\n",
              "      percent.textContent = `${percentDone}% done`;\n",
              "\n",
              "    } while (position < fileData.byteLength);\n",
              "  }\n",
              "\n",
              "  // All done.\n",
              "  yield {\n",
              "    response: {\n",
              "      action: 'complete',\n",
              "    }\n",
              "  };\n",
              "}\n",
              "\n",
              "scope.google = scope.google || {};\n",
              "scope.google.colab = scope.google.colab || {};\n",
              "scope.google.colab._files = {\n",
              "  _uploadFiles,\n",
              "  _uploadFilesContinue,\n",
              "};\n",
              "})(self);\n",
              "</script> "
            ]
          },
          "metadata": {}
        },
        {
          "output_type": "stream",
          "name": "stdout",
          "text": [
            "Saving EURUSD_220117_230117.csv to EURUSD_220117_230117 (1).csv\n",
            "(6425, 7) Index(['<DATE>', '<TIME>', '<OPEN>', '<HIGH>', '<LOW>', '<CLOSE>', '<VOL>'], dtype='object')\n",
            "(6425, 7) Index(['Date', 'Time', 'Open', 'High', 'Low', 'Close', 'Volume'], dtype='object')\n"
          ]
        }
      ]
    },
    {
      "cell_type": "markdown",
      "source": [
        "Обьединение даты и времени в один столбец:"
      ],
      "metadata": {
        "id": "G2IkERpMS7QO"
      }
    },
    {
      "cell_type": "code",
      "source": [
        "df[\"DateTime\"] = df['Date'] + \" \" + df[\"Time\"]"
      ],
      "metadata": {
        "id": "MKTmUkkhSPA3"
      },
      "execution_count": 4,
      "outputs": []
    },
    {
      "cell_type": "markdown",
      "source": [
        "Преобразование столбца даты с временем из str в datetime:"
      ],
      "metadata": {
        "id": "5RHt5EIUTDul"
      }
    },
    {
      "cell_type": "code",
      "source": [
        "df['DateTime'] = pd.to_datetime(df['DateTime'], format='%d/%m/%y %H:%M:%S')\n",
        "print(df.shape, df.columns)"
      ],
      "metadata": {
        "colab": {
          "base_uri": "https://localhost:8080/"
        },
        "id": "mLmnfgzQNBAW",
        "outputId": "5e660b3c-b789-4bd6-96ee-33a628f3ddcd"
      },
      "execution_count": 5,
      "outputs": [
        {
          "output_type": "stream",
          "name": "stdout",
          "text": [
            "(6425, 8) Index(['Date', 'Time', 'Open', 'High', 'Low', 'Close', 'Volume', 'DateTime'], dtype='object')\n"
          ]
        }
      ]
    },
    {
      "cell_type": "markdown",
      "source": [
        "Просмотр полученных данных:"
      ],
      "metadata": {
        "id": "P43c_prOTcT_"
      }
    },
    {
      "cell_type": "code",
      "source": [
        "df"
      ],
      "metadata": {
        "colab": {
          "base_uri": "https://localhost:8080/",
          "height": 424
        },
        "id": "o9GTqul-SpEW",
        "outputId": "6e6f5a2a-0824-4c33-c9e4-5ce18c20674b"
      },
      "execution_count": 6,
      "outputs": [
        {
          "output_type": "execute_result",
          "data": {
            "text/plain": [
              "          Date      Time     Open     High      Low    Close  Volume  \\\n",
              "0     17/01/22  02:00:00  1.14128  1.14169  1.14119  1.14151    6360   \n",
              "1     17/01/22  03:00:00  1.14150  1.14159  1.14040  1.14110   30214   \n",
              "2     17/01/22  04:00:00  1.14105  1.14118  1.14020  1.14076   29191   \n",
              "3     17/01/22  05:00:00  1.14072  1.14087  1.13980  1.14043   36932   \n",
              "4     17/01/22  06:00:00  1.14047  1.14178  1.14020  1.14155   28470   \n",
              "...        ...       ...      ...      ...      ...      ...     ...   \n",
              "6420  17/01/23  15:00:00  1.08214  1.08338  1.08120  1.08316  111955   \n",
              "6421  17/01/23  16:00:00  1.08322  1.08577  1.08210  1.08523  142646   \n",
              "6422  17/01/23  17:00:00  1.08528  1.08580  1.08350  1.08424  187522   \n",
              "6423  17/01/23  18:00:00  1.08423  1.08699  1.08410  1.08627  203055   \n",
              "6424  17/01/23  19:00:00  1.08627  1.08639  1.08100  1.08142  188871   \n",
              "\n",
              "                DateTime  \n",
              "0    2022-01-17 02:00:00  \n",
              "1    2022-01-17 03:00:00  \n",
              "2    2022-01-17 04:00:00  \n",
              "3    2022-01-17 05:00:00  \n",
              "4    2022-01-17 06:00:00  \n",
              "...                  ...  \n",
              "6420 2023-01-17 15:00:00  \n",
              "6421 2023-01-17 16:00:00  \n",
              "6422 2023-01-17 17:00:00  \n",
              "6423 2023-01-17 18:00:00  \n",
              "6424 2023-01-17 19:00:00  \n",
              "\n",
              "[6425 rows x 8 columns]"
            ],
            "text/html": [
              "\n",
              "  <div id=\"df-e79647a3-4316-4a70-8af0-ae385f859f1c\">\n",
              "    <div class=\"colab-df-container\">\n",
              "      <div>\n",
              "<style scoped>\n",
              "    .dataframe tbody tr th:only-of-type {\n",
              "        vertical-align: middle;\n",
              "    }\n",
              "\n",
              "    .dataframe tbody tr th {\n",
              "        vertical-align: top;\n",
              "    }\n",
              "\n",
              "    .dataframe thead th {\n",
              "        text-align: right;\n",
              "    }\n",
              "</style>\n",
              "<table border=\"1\" class=\"dataframe\">\n",
              "  <thead>\n",
              "    <tr style=\"text-align: right;\">\n",
              "      <th></th>\n",
              "      <th>Date</th>\n",
              "      <th>Time</th>\n",
              "      <th>Open</th>\n",
              "      <th>High</th>\n",
              "      <th>Low</th>\n",
              "      <th>Close</th>\n",
              "      <th>Volume</th>\n",
              "      <th>DateTime</th>\n",
              "    </tr>\n",
              "  </thead>\n",
              "  <tbody>\n",
              "    <tr>\n",
              "      <th>0</th>\n",
              "      <td>17/01/22</td>\n",
              "      <td>02:00:00</td>\n",
              "      <td>1.14128</td>\n",
              "      <td>1.14169</td>\n",
              "      <td>1.14119</td>\n",
              "      <td>1.14151</td>\n",
              "      <td>6360</td>\n",
              "      <td>2022-01-17 02:00:00</td>\n",
              "    </tr>\n",
              "    <tr>\n",
              "      <th>1</th>\n",
              "      <td>17/01/22</td>\n",
              "      <td>03:00:00</td>\n",
              "      <td>1.14150</td>\n",
              "      <td>1.14159</td>\n",
              "      <td>1.14040</td>\n",
              "      <td>1.14110</td>\n",
              "      <td>30214</td>\n",
              "      <td>2022-01-17 03:00:00</td>\n",
              "    </tr>\n",
              "    <tr>\n",
              "      <th>2</th>\n",
              "      <td>17/01/22</td>\n",
              "      <td>04:00:00</td>\n",
              "      <td>1.14105</td>\n",
              "      <td>1.14118</td>\n",
              "      <td>1.14020</td>\n",
              "      <td>1.14076</td>\n",
              "      <td>29191</td>\n",
              "      <td>2022-01-17 04:00:00</td>\n",
              "    </tr>\n",
              "    <tr>\n",
              "      <th>3</th>\n",
              "      <td>17/01/22</td>\n",
              "      <td>05:00:00</td>\n",
              "      <td>1.14072</td>\n",
              "      <td>1.14087</td>\n",
              "      <td>1.13980</td>\n",
              "      <td>1.14043</td>\n",
              "      <td>36932</td>\n",
              "      <td>2022-01-17 05:00:00</td>\n",
              "    </tr>\n",
              "    <tr>\n",
              "      <th>4</th>\n",
              "      <td>17/01/22</td>\n",
              "      <td>06:00:00</td>\n",
              "      <td>1.14047</td>\n",
              "      <td>1.14178</td>\n",
              "      <td>1.14020</td>\n",
              "      <td>1.14155</td>\n",
              "      <td>28470</td>\n",
              "      <td>2022-01-17 06:00:00</td>\n",
              "    </tr>\n",
              "    <tr>\n",
              "      <th>...</th>\n",
              "      <td>...</td>\n",
              "      <td>...</td>\n",
              "      <td>...</td>\n",
              "      <td>...</td>\n",
              "      <td>...</td>\n",
              "      <td>...</td>\n",
              "      <td>...</td>\n",
              "      <td>...</td>\n",
              "    </tr>\n",
              "    <tr>\n",
              "      <th>6420</th>\n",
              "      <td>17/01/23</td>\n",
              "      <td>15:00:00</td>\n",
              "      <td>1.08214</td>\n",
              "      <td>1.08338</td>\n",
              "      <td>1.08120</td>\n",
              "      <td>1.08316</td>\n",
              "      <td>111955</td>\n",
              "      <td>2023-01-17 15:00:00</td>\n",
              "    </tr>\n",
              "    <tr>\n",
              "      <th>6421</th>\n",
              "      <td>17/01/23</td>\n",
              "      <td>16:00:00</td>\n",
              "      <td>1.08322</td>\n",
              "      <td>1.08577</td>\n",
              "      <td>1.08210</td>\n",
              "      <td>1.08523</td>\n",
              "      <td>142646</td>\n",
              "      <td>2023-01-17 16:00:00</td>\n",
              "    </tr>\n",
              "    <tr>\n",
              "      <th>6422</th>\n",
              "      <td>17/01/23</td>\n",
              "      <td>17:00:00</td>\n",
              "      <td>1.08528</td>\n",
              "      <td>1.08580</td>\n",
              "      <td>1.08350</td>\n",
              "      <td>1.08424</td>\n",
              "      <td>187522</td>\n",
              "      <td>2023-01-17 17:00:00</td>\n",
              "    </tr>\n",
              "    <tr>\n",
              "      <th>6423</th>\n",
              "      <td>17/01/23</td>\n",
              "      <td>18:00:00</td>\n",
              "      <td>1.08423</td>\n",
              "      <td>1.08699</td>\n",
              "      <td>1.08410</td>\n",
              "      <td>1.08627</td>\n",
              "      <td>203055</td>\n",
              "      <td>2023-01-17 18:00:00</td>\n",
              "    </tr>\n",
              "    <tr>\n",
              "      <th>6424</th>\n",
              "      <td>17/01/23</td>\n",
              "      <td>19:00:00</td>\n",
              "      <td>1.08627</td>\n",
              "      <td>1.08639</td>\n",
              "      <td>1.08100</td>\n",
              "      <td>1.08142</td>\n",
              "      <td>188871</td>\n",
              "      <td>2023-01-17 19:00:00</td>\n",
              "    </tr>\n",
              "  </tbody>\n",
              "</table>\n",
              "<p>6425 rows × 8 columns</p>\n",
              "</div>\n",
              "      <button class=\"colab-df-convert\" onclick=\"convertToInteractive('df-e79647a3-4316-4a70-8af0-ae385f859f1c')\"\n",
              "              title=\"Convert this dataframe to an interactive table.\"\n",
              "              style=\"display:none;\">\n",
              "        \n",
              "  <svg xmlns=\"http://www.w3.org/2000/svg\" height=\"24px\"viewBox=\"0 0 24 24\"\n",
              "       width=\"24px\">\n",
              "    <path d=\"M0 0h24v24H0V0z\" fill=\"none\"/>\n",
              "    <path d=\"M18.56 5.44l.94 2.06.94-2.06 2.06-.94-2.06-.94-.94-2.06-.94 2.06-2.06.94zm-11 1L8.5 8.5l.94-2.06 2.06-.94-2.06-.94L8.5 2.5l-.94 2.06-2.06.94zm10 10l.94 2.06.94-2.06 2.06-.94-2.06-.94-.94-2.06-.94 2.06-2.06.94z\"/><path d=\"M17.41 7.96l-1.37-1.37c-.4-.4-.92-.59-1.43-.59-.52 0-1.04.2-1.43.59L10.3 9.45l-7.72 7.72c-.78.78-.78 2.05 0 2.83L4 21.41c.39.39.9.59 1.41.59.51 0 1.02-.2 1.41-.59l7.78-7.78 2.81-2.81c.8-.78.8-2.07 0-2.86zM5.41 20L4 18.59l7.72-7.72 1.47 1.35L5.41 20z\"/>\n",
              "  </svg>\n",
              "      </button>\n",
              "      \n",
              "  <style>\n",
              "    .colab-df-container {\n",
              "      display:flex;\n",
              "      flex-wrap:wrap;\n",
              "      gap: 12px;\n",
              "    }\n",
              "\n",
              "    .colab-df-convert {\n",
              "      background-color: #E8F0FE;\n",
              "      border: none;\n",
              "      border-radius: 50%;\n",
              "      cursor: pointer;\n",
              "      display: none;\n",
              "      fill: #1967D2;\n",
              "      height: 32px;\n",
              "      padding: 0 0 0 0;\n",
              "      width: 32px;\n",
              "    }\n",
              "\n",
              "    .colab-df-convert:hover {\n",
              "      background-color: #E2EBFA;\n",
              "      box-shadow: 0px 1px 2px rgba(60, 64, 67, 0.3), 0px 1px 3px 1px rgba(60, 64, 67, 0.15);\n",
              "      fill: #174EA6;\n",
              "    }\n",
              "\n",
              "    [theme=dark] .colab-df-convert {\n",
              "      background-color: #3B4455;\n",
              "      fill: #D2E3FC;\n",
              "    }\n",
              "\n",
              "    [theme=dark] .colab-df-convert:hover {\n",
              "      background-color: #434B5C;\n",
              "      box-shadow: 0px 1px 3px 1px rgba(0, 0, 0, 0.15);\n",
              "      filter: drop-shadow(0px 1px 2px rgba(0, 0, 0, 0.3));\n",
              "      fill: #FFFFFF;\n",
              "    }\n",
              "  </style>\n",
              "\n",
              "      <script>\n",
              "        const buttonEl =\n",
              "          document.querySelector('#df-e79647a3-4316-4a70-8af0-ae385f859f1c button.colab-df-convert');\n",
              "        buttonEl.style.display =\n",
              "          google.colab.kernel.accessAllowed ? 'block' : 'none';\n",
              "\n",
              "        async function convertToInteractive(key) {\n",
              "          const element = document.querySelector('#df-e79647a3-4316-4a70-8af0-ae385f859f1c');\n",
              "          const dataTable =\n",
              "            await google.colab.kernel.invokeFunction('convertToInteractive',\n",
              "                                                     [key], {});\n",
              "          if (!dataTable) return;\n",
              "\n",
              "          const docLinkHtml = 'Like what you see? Visit the ' +\n",
              "            '<a target=\"_blank\" href=https://colab.research.google.com/notebooks/data_table.ipynb>data table notebook</a>'\n",
              "            + ' to learn more about interactive tables.';\n",
              "          element.innerHTML = '';\n",
              "          dataTable['output_type'] = 'display_data';\n",
              "          await google.colab.output.renderOutput(dataTable, element);\n",
              "          const docLink = document.createElement('div');\n",
              "          docLink.innerHTML = docLinkHtml;\n",
              "          element.appendChild(docLink);\n",
              "        }\n",
              "      </script>\n",
              "    </div>\n",
              "  </div>\n",
              "  "
            ]
          },
          "metadata": {},
          "execution_count": 6
        }
      ]
    },
    {
      "cell_type": "markdown",
      "source": [
        "Убираем несформулившуюся свечу(последнюю):"
      ],
      "metadata": {
        "id": "MBoOvtAF-CLO"
      }
    },
    {
      "cell_type": "code",
      "source": [
        "df = df.drop(df.index[len(df)-1])\n",
        "df"
      ],
      "metadata": {
        "colab": {
          "base_uri": "https://localhost:8080/",
          "height": 424
        },
        "id": "qjWFK4_I-CR1",
        "outputId": "84c8548f-5b36-4655-b85d-c6eee8d34243"
      },
      "execution_count": 7,
      "outputs": [
        {
          "output_type": "execute_result",
          "data": {
            "text/plain": [
              "          Date      Time     Open     High      Low    Close  Volume  \\\n",
              "0     17/01/22  02:00:00  1.14128  1.14169  1.14119  1.14151    6360   \n",
              "1     17/01/22  03:00:00  1.14150  1.14159  1.14040  1.14110   30214   \n",
              "2     17/01/22  04:00:00  1.14105  1.14118  1.14020  1.14076   29191   \n",
              "3     17/01/22  05:00:00  1.14072  1.14087  1.13980  1.14043   36932   \n",
              "4     17/01/22  06:00:00  1.14047  1.14178  1.14020  1.14155   28470   \n",
              "...        ...       ...      ...      ...      ...      ...     ...   \n",
              "6419  17/01/23  14:00:00  1.08172  1.08275  1.08080  1.08208  127928   \n",
              "6420  17/01/23  15:00:00  1.08214  1.08338  1.08120  1.08316  111955   \n",
              "6421  17/01/23  16:00:00  1.08322  1.08577  1.08210  1.08523  142646   \n",
              "6422  17/01/23  17:00:00  1.08528  1.08580  1.08350  1.08424  187522   \n",
              "6423  17/01/23  18:00:00  1.08423  1.08699  1.08410  1.08627  203055   \n",
              "\n",
              "                DateTime  \n",
              "0    2022-01-17 02:00:00  \n",
              "1    2022-01-17 03:00:00  \n",
              "2    2022-01-17 04:00:00  \n",
              "3    2022-01-17 05:00:00  \n",
              "4    2022-01-17 06:00:00  \n",
              "...                  ...  \n",
              "6419 2023-01-17 14:00:00  \n",
              "6420 2023-01-17 15:00:00  \n",
              "6421 2023-01-17 16:00:00  \n",
              "6422 2023-01-17 17:00:00  \n",
              "6423 2023-01-17 18:00:00  \n",
              "\n",
              "[6424 rows x 8 columns]"
            ],
            "text/html": [
              "\n",
              "  <div id=\"df-bd6c90ab-8e5d-40b9-9468-b1e7ade44d24\">\n",
              "    <div class=\"colab-df-container\">\n",
              "      <div>\n",
              "<style scoped>\n",
              "    .dataframe tbody tr th:only-of-type {\n",
              "        vertical-align: middle;\n",
              "    }\n",
              "\n",
              "    .dataframe tbody tr th {\n",
              "        vertical-align: top;\n",
              "    }\n",
              "\n",
              "    .dataframe thead th {\n",
              "        text-align: right;\n",
              "    }\n",
              "</style>\n",
              "<table border=\"1\" class=\"dataframe\">\n",
              "  <thead>\n",
              "    <tr style=\"text-align: right;\">\n",
              "      <th></th>\n",
              "      <th>Date</th>\n",
              "      <th>Time</th>\n",
              "      <th>Open</th>\n",
              "      <th>High</th>\n",
              "      <th>Low</th>\n",
              "      <th>Close</th>\n",
              "      <th>Volume</th>\n",
              "      <th>DateTime</th>\n",
              "    </tr>\n",
              "  </thead>\n",
              "  <tbody>\n",
              "    <tr>\n",
              "      <th>0</th>\n",
              "      <td>17/01/22</td>\n",
              "      <td>02:00:00</td>\n",
              "      <td>1.14128</td>\n",
              "      <td>1.14169</td>\n",
              "      <td>1.14119</td>\n",
              "      <td>1.14151</td>\n",
              "      <td>6360</td>\n",
              "      <td>2022-01-17 02:00:00</td>\n",
              "    </tr>\n",
              "    <tr>\n",
              "      <th>1</th>\n",
              "      <td>17/01/22</td>\n",
              "      <td>03:00:00</td>\n",
              "      <td>1.14150</td>\n",
              "      <td>1.14159</td>\n",
              "      <td>1.14040</td>\n",
              "      <td>1.14110</td>\n",
              "      <td>30214</td>\n",
              "      <td>2022-01-17 03:00:00</td>\n",
              "    </tr>\n",
              "    <tr>\n",
              "      <th>2</th>\n",
              "      <td>17/01/22</td>\n",
              "      <td>04:00:00</td>\n",
              "      <td>1.14105</td>\n",
              "      <td>1.14118</td>\n",
              "      <td>1.14020</td>\n",
              "      <td>1.14076</td>\n",
              "      <td>29191</td>\n",
              "      <td>2022-01-17 04:00:00</td>\n",
              "    </tr>\n",
              "    <tr>\n",
              "      <th>3</th>\n",
              "      <td>17/01/22</td>\n",
              "      <td>05:00:00</td>\n",
              "      <td>1.14072</td>\n",
              "      <td>1.14087</td>\n",
              "      <td>1.13980</td>\n",
              "      <td>1.14043</td>\n",
              "      <td>36932</td>\n",
              "      <td>2022-01-17 05:00:00</td>\n",
              "    </tr>\n",
              "    <tr>\n",
              "      <th>4</th>\n",
              "      <td>17/01/22</td>\n",
              "      <td>06:00:00</td>\n",
              "      <td>1.14047</td>\n",
              "      <td>1.14178</td>\n",
              "      <td>1.14020</td>\n",
              "      <td>1.14155</td>\n",
              "      <td>28470</td>\n",
              "      <td>2022-01-17 06:00:00</td>\n",
              "    </tr>\n",
              "    <tr>\n",
              "      <th>...</th>\n",
              "      <td>...</td>\n",
              "      <td>...</td>\n",
              "      <td>...</td>\n",
              "      <td>...</td>\n",
              "      <td>...</td>\n",
              "      <td>...</td>\n",
              "      <td>...</td>\n",
              "      <td>...</td>\n",
              "    </tr>\n",
              "    <tr>\n",
              "      <th>6419</th>\n",
              "      <td>17/01/23</td>\n",
              "      <td>14:00:00</td>\n",
              "      <td>1.08172</td>\n",
              "      <td>1.08275</td>\n",
              "      <td>1.08080</td>\n",
              "      <td>1.08208</td>\n",
              "      <td>127928</td>\n",
              "      <td>2023-01-17 14:00:00</td>\n",
              "    </tr>\n",
              "    <tr>\n",
              "      <th>6420</th>\n",
              "      <td>17/01/23</td>\n",
              "      <td>15:00:00</td>\n",
              "      <td>1.08214</td>\n",
              "      <td>1.08338</td>\n",
              "      <td>1.08120</td>\n",
              "      <td>1.08316</td>\n",
              "      <td>111955</td>\n",
              "      <td>2023-01-17 15:00:00</td>\n",
              "    </tr>\n",
              "    <tr>\n",
              "      <th>6421</th>\n",
              "      <td>17/01/23</td>\n",
              "      <td>16:00:00</td>\n",
              "      <td>1.08322</td>\n",
              "      <td>1.08577</td>\n",
              "      <td>1.08210</td>\n",
              "      <td>1.08523</td>\n",
              "      <td>142646</td>\n",
              "      <td>2023-01-17 16:00:00</td>\n",
              "    </tr>\n",
              "    <tr>\n",
              "      <th>6422</th>\n",
              "      <td>17/01/23</td>\n",
              "      <td>17:00:00</td>\n",
              "      <td>1.08528</td>\n",
              "      <td>1.08580</td>\n",
              "      <td>1.08350</td>\n",
              "      <td>1.08424</td>\n",
              "      <td>187522</td>\n",
              "      <td>2023-01-17 17:00:00</td>\n",
              "    </tr>\n",
              "    <tr>\n",
              "      <th>6423</th>\n",
              "      <td>17/01/23</td>\n",
              "      <td>18:00:00</td>\n",
              "      <td>1.08423</td>\n",
              "      <td>1.08699</td>\n",
              "      <td>1.08410</td>\n",
              "      <td>1.08627</td>\n",
              "      <td>203055</td>\n",
              "      <td>2023-01-17 18:00:00</td>\n",
              "    </tr>\n",
              "  </tbody>\n",
              "</table>\n",
              "<p>6424 rows × 8 columns</p>\n",
              "</div>\n",
              "      <button class=\"colab-df-convert\" onclick=\"convertToInteractive('df-bd6c90ab-8e5d-40b9-9468-b1e7ade44d24')\"\n",
              "              title=\"Convert this dataframe to an interactive table.\"\n",
              "              style=\"display:none;\">\n",
              "        \n",
              "  <svg xmlns=\"http://www.w3.org/2000/svg\" height=\"24px\"viewBox=\"0 0 24 24\"\n",
              "       width=\"24px\">\n",
              "    <path d=\"M0 0h24v24H0V0z\" fill=\"none\"/>\n",
              "    <path d=\"M18.56 5.44l.94 2.06.94-2.06 2.06-.94-2.06-.94-.94-2.06-.94 2.06-2.06.94zm-11 1L8.5 8.5l.94-2.06 2.06-.94-2.06-.94L8.5 2.5l-.94 2.06-2.06.94zm10 10l.94 2.06.94-2.06 2.06-.94-2.06-.94-.94-2.06-.94 2.06-2.06.94z\"/><path d=\"M17.41 7.96l-1.37-1.37c-.4-.4-.92-.59-1.43-.59-.52 0-1.04.2-1.43.59L10.3 9.45l-7.72 7.72c-.78.78-.78 2.05 0 2.83L4 21.41c.39.39.9.59 1.41.59.51 0 1.02-.2 1.41-.59l7.78-7.78 2.81-2.81c.8-.78.8-2.07 0-2.86zM5.41 20L4 18.59l7.72-7.72 1.47 1.35L5.41 20z\"/>\n",
              "  </svg>\n",
              "      </button>\n",
              "      \n",
              "  <style>\n",
              "    .colab-df-container {\n",
              "      display:flex;\n",
              "      flex-wrap:wrap;\n",
              "      gap: 12px;\n",
              "    }\n",
              "\n",
              "    .colab-df-convert {\n",
              "      background-color: #E8F0FE;\n",
              "      border: none;\n",
              "      border-radius: 50%;\n",
              "      cursor: pointer;\n",
              "      display: none;\n",
              "      fill: #1967D2;\n",
              "      height: 32px;\n",
              "      padding: 0 0 0 0;\n",
              "      width: 32px;\n",
              "    }\n",
              "\n",
              "    .colab-df-convert:hover {\n",
              "      background-color: #E2EBFA;\n",
              "      box-shadow: 0px 1px 2px rgba(60, 64, 67, 0.3), 0px 1px 3px 1px rgba(60, 64, 67, 0.15);\n",
              "      fill: #174EA6;\n",
              "    }\n",
              "\n",
              "    [theme=dark] .colab-df-convert {\n",
              "      background-color: #3B4455;\n",
              "      fill: #D2E3FC;\n",
              "    }\n",
              "\n",
              "    [theme=dark] .colab-df-convert:hover {\n",
              "      background-color: #434B5C;\n",
              "      box-shadow: 0px 1px 3px 1px rgba(0, 0, 0, 0.15);\n",
              "      filter: drop-shadow(0px 1px 2px rgba(0, 0, 0, 0.3));\n",
              "      fill: #FFFFFF;\n",
              "    }\n",
              "  </style>\n",
              "\n",
              "      <script>\n",
              "        const buttonEl =\n",
              "          document.querySelector('#df-bd6c90ab-8e5d-40b9-9468-b1e7ade44d24 button.colab-df-convert');\n",
              "        buttonEl.style.display =\n",
              "          google.colab.kernel.accessAllowed ? 'block' : 'none';\n",
              "\n",
              "        async function convertToInteractive(key) {\n",
              "          const element = document.querySelector('#df-bd6c90ab-8e5d-40b9-9468-b1e7ade44d24');\n",
              "          const dataTable =\n",
              "            await google.colab.kernel.invokeFunction('convertToInteractive',\n",
              "                                                     [key], {});\n",
              "          if (!dataTable) return;\n",
              "\n",
              "          const docLinkHtml = 'Like what you see? Visit the ' +\n",
              "            '<a target=\"_blank\" href=https://colab.research.google.com/notebooks/data_table.ipynb>data table notebook</a>'\n",
              "            + ' to learn more about interactive tables.';\n",
              "          element.innerHTML = '';\n",
              "          dataTable['output_type'] = 'display_data';\n",
              "          await google.colab.output.renderOutput(dataTable, element);\n",
              "          const docLink = document.createElement('div');\n",
              "          docLink.innerHTML = docLinkHtml;\n",
              "          element.appendChild(docLink);\n",
              "        }\n",
              "      </script>\n",
              "    </div>\n",
              "  </div>\n",
              "  "
            ]
          },
          "metadata": {},
          "execution_count": 7
        }
      ]
    },
    {
      "cell_type": "markdown",
      "source": [
        "Делим данные на train и test:"
      ],
      "metadata": {
        "id": "x0iiUHX_PGNQ"
      }
    },
    {
      "cell_type": "code",
      "source": [
        "split = 0.85\n",
        "i_split = int(len(df) * split)\n",
        "cols = ['Close', 'Volume']\n",
        "data_train = df.get(cols).values[:i_split]\n",
        "data_test = df.get(cols).values[i_split:]\n",
        "len_train = len(data_train)\n",
        "len_test = len(data_test)\n",
        "print(len(df), len_train, len_test)"
      ],
      "metadata": {
        "colab": {
          "base_uri": "https://localhost:8080/"
        },
        "id": "7cLUCPavPGTQ",
        "outputId": "fbb09c8d-7606-4d8a-fd55-2d3a236544de"
      },
      "execution_count": 8,
      "outputs": [
        {
          "output_type": "stream",
          "name": "stdout",
          "text": [
            "6424 5460 964\n"
          ]
        }
      ]
    },
    {
      "cell_type": "code",
      "source": [
        "len_train, data_train, len_test, data_test"
      ],
      "metadata": {
        "colab": {
          "base_uri": "https://localhost:8080/"
        },
        "id": "oQqeyZfmQtiJ",
        "outputId": "e3963ac4-f449-4b0c-84de-7e70c5c1daa3"
      },
      "execution_count": 9,
      "outputs": [
        {
          "output_type": "execute_result",
          "data": {
            "text/plain": [
              "(5460, array([[1.14151e+00, 6.36000e+03],\n",
              "        [1.14110e+00, 3.02140e+04],\n",
              "        [1.14076e+00, 2.91910e+04],\n",
              "        ...,\n",
              "        [1.03114e+00, 1.05722e+05],\n",
              "        [1.03194e+00, 8.74600e+04],\n",
              "        [1.03229e+00, 1.02190e+05]]), 964, array([[1.03319e+00, 2.02854e+05],\n",
              "        [1.03673e+00, 2.30916e+05],\n",
              "        [1.03760e+00, 2.61644e+05],\n",
              "        ...,\n",
              "        [1.08523e+00, 1.42646e+05],\n",
              "        [1.08424e+00, 1.87522e+05],\n",
              "        [1.08627e+00, 2.03055e+05]]))"
            ]
          },
          "metadata": {},
          "execution_count": 9
        }
      ]
    },
    {
      "cell_type": "code",
      "source": [
        "data_train.shape, data_test.shape"
      ],
      "metadata": {
        "colab": {
          "base_uri": "https://localhost:8080/"
        },
        "id": "2D6hJJseRo6Y",
        "outputId": "976a22ec-7260-4fdf-af29-23c2c9d71591"
      },
      "execution_count": 10,
      "outputs": [
        {
          "output_type": "execute_result",
          "data": {
            "text/plain": [
              "((5460, 2), (964, 2))"
            ]
          },
          "metadata": {},
          "execution_count": 10
        }
      ]
    },
    {
      "cell_type": "markdown",
      "source": [
        "Начинаем формировать нашу нейронку:"
      ],
      "metadata": {
        "id": "2Gdu9Xj5SSdB"
      }
    },
    {
      "cell_type": "code",
      "source": [
        "sequence_length = 50\n",
        "input_dim = 2\n",
        "batch_size = 32\n",
        "epochs = 2"
      ],
      "metadata": {
        "id": "RVLGmcMuSD9I"
      },
      "execution_count": 11,
      "outputs": []
    },
    {
      "cell_type": "code",
      "source": [
        "model = tf.keras.Sequential([\n",
        "    tf.keras.layers.LSTM(100, input_shape=(sequence_length-1, input_dim), return_sequences=True),\n",
        "    tf.keras.layers.Dropout(0.2),\n",
        "    tf.keras.layers.LSTM(100, return_sequences=True),\n",
        "    tf.keras.layers.LSTM(100, return_sequences=False),\n",
        "    tf.keras.layers.Dropout(0.2),\n",
        "    tf.keras.layers.Dense(1, activation='linear')\n",
        "])"
      ],
      "metadata": {
        "id": "skOzSEZGSQxB"
      },
      "execution_count": 12,
      "outputs": []
    },
    {
      "cell_type": "code",
      "source": [
        "model.summary()"
      ],
      "metadata": {
        "colab": {
          "base_uri": "https://localhost:8080/"
        },
        "id": "cJ0wPVLsTfRM",
        "outputId": "0d78adc4-6847-46e4-f552-115676246423"
      },
      "execution_count": 13,
      "outputs": [
        {
          "output_type": "stream",
          "name": "stdout",
          "text": [
            "Model: \"sequential\"\n",
            "_________________________________________________________________\n",
            " Layer (type)                Output Shape              Param #   \n",
            "=================================================================\n",
            " lstm (LSTM)                 (None, 49, 100)           41200     \n",
            "                                                                 \n",
            " dropout (Dropout)           (None, 49, 100)           0         \n",
            "                                                                 \n",
            " lstm_1 (LSTM)               (None, 49, 100)           80400     \n",
            "                                                                 \n",
            " lstm_2 (LSTM)               (None, 100)               80400     \n",
            "                                                                 \n",
            " dropout_1 (Dropout)         (None, 100)               0         \n",
            "                                                                 \n",
            " dense (Dense)               (None, 1)                 101       \n",
            "                                                                 \n",
            "=================================================================\n",
            "Total params: 202,101\n",
            "Trainable params: 202,101\n",
            "Non-trainable params: 0\n",
            "_________________________________________________________________\n"
          ]
        }
      ]
    },
    {
      "cell_type": "code",
      "source": [
        "tf.keras.utils.plot_model(model, 'multi_input_and_output_model.png', show_shapes=True)"
      ],
      "metadata": {
        "colab": {
          "base_uri": "https://localhost:8080/",
          "height": 754
        },
        "id": "T5mPB9CDT44i",
        "outputId": "b08bd608-bafb-4c36-819b-269f87ce70b2"
      },
      "execution_count": 14,
      "outputs": [
        {
          "output_type": "execute_result",
          "data": {
            "image/png": "[encoded data removed]",
            "text/plain": [
              "<IPython.core.display.Image object>"
            ]
          },
          "metadata": {},
          "execution_count": 14
        }
      ]
    },
    {
      "cell_type": "code",
      "source": [
        "model.compile(optimizer='adam', loss='mse', metrics=['accuracy'])"
      ],
      "metadata": {
        "id": "EXzj0z4QURfC"
      },
      "execution_count": 15,
      "outputs": []
    },
    {
      "cell_type": "markdown",
      "source": [
        "Нормализация данных:"
      ],
      "metadata": {
        "id": "xviIAn9QXLLs"
      }
    },
    {
      "cell_type": "code",
      "source": [
        "def normalise_windows(window_data, single_window=False):\n",
        "  normalised_data = []\n",
        "  window_data = [window_data] if single_window else window_data\n",
        "  for window in window_data:\n",
        "    normalised_window = []\n",
        "    for col_i in range(window.shape[1]):\n",
        "      normalised_col = [((float(p) / float(window[0, col_i])) - 1) for p in window[:, col_i]]\n",
        "      normalised_window.append(normalised_col)\n",
        "    normalised_window = np.array(normalised_window).T\n",
        "    normalised_data.append(normalised_window)\n",
        "  return np.array(normalised_data)"
      ],
      "metadata": {
        "id": "fPx6D6_uyW78"
      },
      "execution_count": 16,
      "outputs": []
    },
    {
      "cell_type": "code",
      "source": [
        "def _next_window(i, seq_len, normalise):\n",
        "  window = data_train[i:i+seq_len]\n",
        "  window = normalise_windows(window, single_window=True)[0] if normalise else window\n",
        "  x = window[:-1]\n",
        "  y = window[-1, [0]]\n",
        "  return x, y"
      ],
      "metadata": {
        "id": "W2SVH9B7zzaa"
      },
      "execution_count": 17,
      "outputs": []
    },
    {
      "cell_type": "code",
      "source": [
        "def get_train_data(seq_len, normalise):\n",
        "  data_x = []\n",
        "  data_y = []\n",
        "  for i in range(len_train - seq_len + 1):\n",
        "    x, y = _next_window(i, seq_len, normalise)\n",
        "    data_x.append(x)\n",
        "    data_y.append(y)\n",
        "  return np.array(data_x), np.array(data_y)"
      ],
      "metadata": {
        "id": "JdCCNe4R0aVS"
      },
      "execution_count": 18,
      "outputs": []
    },
    {
      "cell_type": "code",
      "source": [
        "x, y = get_train_data(\n",
        "    seq_len = sequence_length,\n",
        "    normalise = True\n",
        ")"
      ],
      "metadata": {
        "id": "bhsnJuUY0-Wd"
      },
      "execution_count": 23,
      "outputs": []
    },
    {
      "cell_type": "code",
      "source": [
        "print(x, y, x.shape, y.shape)"
      ],
      "metadata": {
        "colab": {
          "base_uri": "https://localhost:8080/"
        },
        "id": "uKPYrdXq1KBo",
        "outputId": "1d75e8f5-2598-4ca8-8c5d-c2c5df351176"
      },
      "execution_count": 24,
      "outputs": [
        {
          "output_type": "stream",
          "name": "stdout",
          "text": [
            "[[[ 0.00000000e+00  0.00000000e+00]\n",
            "  [-3.59173376e-04  3.75062893e+00]\n",
            "  [-6.57024468e-04  3.58977987e+00]\n",
            "  ...\n",
            "  [-8.59388004e-03  6.65581761e+00]\n",
            "  [-8.06826046e-03  2.91305031e+00]\n",
            "  [-7.72660774e-03  1.18490566e+00]]\n",
            "\n",
            " [[ 0.00000000e+00  0.00000000e+00]\n",
            "  [-2.97958111e-04 -3.38584762e-02]\n",
            "  [-5.87152747e-04  2.22347256e-01]\n",
            "  ...\n",
            "  [-7.71185698e-03 -1.76308996e-01]\n",
            "  [-7.37008150e-03 -5.40080757e-01]\n",
            "  [-7.21233897e-03 -4.28609254e-01]]\n",
            "\n",
            " [[ 0.00000000e+00  0.00000000e+00]\n",
            "  [-2.89280830e-04  2.65184475e-01]\n",
            "  [ 6.92520776e-04 -2.46993936e-02]\n",
            "  ...\n",
            "  [-7.07423121e-03 -5.23962865e-01]\n",
            "  [-6.91644167e-03 -4.08584838e-01]\n",
            "  [-6.88137733e-03  3.03107122e-01]]\n",
            "\n",
            " ...\n",
            "\n",
            " [[ 0.00000000e+00  0.00000000e+00]\n",
            "  [ 1.31032122e-03 -1.74105173e-01]\n",
            "  [ 7.52945778e-04 -3.24617613e-01]\n",
            "  ...\n",
            "  [ 1.13919718e-02 -2.69563758e-01]\n",
            "  [ 8.43885982e-03 -1.87884174e-02]\n",
            "  [ 9.62206033e-03 -1.44769635e-01]]\n",
            "\n",
            " [[ 0.00000000e+00  0.00000000e+00]\n",
            "  [-5.56646061e-04 -1.82241654e-01]\n",
            "  [-3.90628815e-05 -2.28168929e-02]\n",
            "  ...\n",
            "  [ 7.11921015e-03  1.88058758e-01]\n",
            "  [ 8.30086231e-03  3.55197014e-02]\n",
            "  [ 6.98249006e-03 -2.04403841e-01]]\n",
            "\n",
            " [[ 0.00000000e+00  0.00000000e+00]\n",
            "  [ 5.17871451e-04  1.94953390e-01]\n",
            "  [ 1.95423189e-03  2.50968555e-01]\n",
            "  ...\n",
            "  [ 8.86244162e-03  2.66290594e-01]\n",
            "  [ 7.54333509e-03 -2.71011439e-02]\n",
            "  [ 8.32502785e-03 -1.95155843e-01]]] [[-0.00756892]\n",
            " [-0.00717729]\n",
            " [-0.00748624]\n",
            " ...\n",
            " [ 0.00830196]\n",
            " [ 0.00776375]\n",
            " [ 0.00866702]] (5411, 49, 2) (5411, 1)\n"
          ]
        }
      ]
    },
    {
      "cell_type": "code",
      "source": [
        "import math\n",
        "\n",
        "steps_per_epoch = math.ceil((len_train - sequence_length) / batch_size)\n",
        "print(steps_per_epoch)"
      ],
      "metadata": {
        "colab": {
          "base_uri": "https://localhost:8080/"
        },
        "id": "FZMpTqc_1s6a",
        "outputId": "c70c823c-e812-4a5e-ca0d-1175066be5e2"
      },
      "execution_count": 25,
      "outputs": [
        {
          "output_type": "stream",
          "name": "stdout",
          "text": [
            "170\n"
          ]
        }
      ]
    },
    {
      "cell_type": "code",
      "source": [
        "batch_size = 32"
      ],
      "metadata": {
        "id": "Ys4m2JkC2BkF"
      },
      "execution_count": 26,
      "outputs": []
    },
    {
      "cell_type": "code",
      "source": [
        "from keras.callbacks import EarlyStopping\n",
        "\n",
        "callbacks = [\n",
        "    EarlyStopping(monitor='accuracy', patience=2)\n",
        "]"
      ],
      "metadata": {
        "id": "2Fwf1Xd-2ExM"
      },
      "execution_count": 27,
      "outputs": []
    },
    {
      "cell_type": "code",
      "source": [
        "model.fit(x, y, epochs=epochs, batch_size=batch_size, callbacks=callbacks)"
      ],
      "metadata": {
        "colab": {
          "base_uri": "https://localhost:8080/"
        },
        "id": "gz-jrOEU2T0u",
        "outputId": "e7430946-b6a2-4dbc-91ad-f9dae980dac1"
      },
      "execution_count": 28,
      "outputs": [
        {
          "output_type": "stream",
          "name": "stdout",
          "text": [
            "Epoch 1/2\n",
            "170/170 [==============================] - 30s 135ms/step - loss: 6.6594e-04 - accuracy: 5.5443e-04\n",
            "Epoch 2/2\n",
            "170/170 [==============================] - 23s 135ms/step - loss: 1.2238e-04 - accuracy: 5.5443e-04\n"
          ]
        },
        {
          "output_type": "execute_result",
          "data": {
            "text/plain": [
              "<keras.callbacks.History at 0x7ff7af426ac0>"
            ]
          },
          "metadata": {},
          "execution_count": 28
        }
      ]
    },
    {
      "cell_type": "code",
      "source": [
        "def get_test_data(seq_len, normalise):\n",
        "  data_windows = []\n",
        "  for i in range(len_test - seq_len):\n",
        "    data_windows.append(data_test[i:i+seq_len])\n",
        "\n",
        "  data_windows = np.array(data_windows).astype(float)\n",
        "  data_windows = normalise_windows(data_windows, single_window=False) if normalise else data_windows\n",
        "\n",
        "  x = data_windows[:, :-1]\n",
        "  y = data_windows[:, -1, [0]]\n",
        "  return x, y"
      ],
      "metadata": {
        "id": "9G_vWSmq2gtr"
      },
      "execution_count": 29,
      "outputs": []
    },
    {
      "cell_type": "code",
      "source": [
        "x_test, y_test = get_test_data(\n",
        "    seq_len = sequence_length,\n",
        "    normalise = True\n",
        ")"
      ],
      "metadata": {
        "id": "9l8eWsm-3oi9"
      },
      "execution_count": 30,
      "outputs": []
    },
    {
      "cell_type": "code",
      "source": [
        "print('test data shapes: ', x_test.shape, y_test.shape)"
      ],
      "metadata": {
        "colab": {
          "base_uri": "https://localhost:8080/"
        },
        "id": "833fJuz533Af",
        "outputId": "81b8aa19-4ef0-4dd6-bd5e-79a288150281"
      },
      "execution_count": 32,
      "outputs": [
        {
          "output_type": "stream",
          "name": "stdout",
          "text": [
            "test data shapes:  (914, 49, 2) (914, 1)\n"
          ]
        }
      ]
    },
    {
      "cell_type": "code",
      "source": [
        "model.evaluate(x_test, y_test, verbose=2)"
      ],
      "metadata": {
        "colab": {
          "base_uri": "https://localhost:8080/"
        },
        "id": "mzA-DecP4Is5",
        "outputId": "df9dc554-8228-4ca3-c06f-c88d7bec94fb"
      },
      "execution_count": 33,
      "outputs": [
        {
          "output_type": "stream",
          "name": "stdout",
          "text": [
            "29/29 - 3s - loss: 4.4871e-05 - accuracy: 0.0011 - 3s/epoch - 100ms/step\n"
          ]
        },
        {
          "output_type": "execute_result",
          "data": {
            "text/plain": [
              "[4.4870608689961955e-05, 0.0010940919164568186]"
            ]
          },
          "metadata": {},
          "execution_count": 33
        }
      ]
    },
    {
      "cell_type": "code",
      "source": [],
      "metadata": {
        "id": "6rnmTHzy4O2c"
      },
      "execution_count": null,
      "outputs": []
    }
  ]
}